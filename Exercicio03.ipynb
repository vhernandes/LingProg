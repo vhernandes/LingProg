{
 "cells": [
  {
   "cell_type": "markdown",
   "metadata": {},
   "source": [
    "1.Faça um Programa que peça dois números e imprima o maior deles."
   ]
  },
  {
   "cell_type": "code",
   "execution_count": 4,
   "metadata": {},
   "outputs": [
    {
     "name": "stdout",
     "output_type": "stream",
     "text": [
      "Digite um numero: 10\n",
      "Digite outro numero: 20\n",
      "O maior numero é : 20\n"
     ]
    }
   ],
   "source": [
    "n1 = int (input(\"Digite um numero: \"))\n",
    "n2 = int (input(\"Digite outro numero: \"))\n",
    "\n",
    "if n1 > n2:\n",
    "    print (f\"O maior numero é : {n1}\")\n",
    "else:\n",
    "    print (f\"O maior numero é : {n2}\")\n",
    "    "
   ]
  },
  {
   "cell_type": "markdown",
   "metadata": {},
   "source": [
    "2.Faça um Programa que verifique se uma letra digitada é vogal ou consoante."
   ]
  },
  {
   "cell_type": "code",
   "execution_count": 24,
   "metadata": {},
   "outputs": [
    {
     "name": "stdout",
     "output_type": "stream",
     "text": [
      "Digite uma letra: b\n",
      "A letra é uma consoante\n"
     ]
    }
   ],
   "source": [
    "letra = (input(\"Digite uma letra: \"))\n",
    "\n",
    "if letra == 'a' or letra == 'e' or letra == 'i' or letra == 'o' or letra == 'u':\n",
    "    print ('A letra é uma vogal')\n",
    "else:\n",
    "    print ('A letra é uma consoante')"
   ]
  },
  {
   "cell_type": "markdown",
   "metadata": {},
   "source": [
    "3.Faça um programa para a leitura de duas notas parciais de um aluno. O programa\n",
    "deve calcular a média alcançada por aluno e apresentar:\n",
    "-> A mensagem \"Aprovado\", se a média alcançada for maior ou igual a sete;\n",
    "-> A mensagem \"Reprovado\", se a média for menor do que sete;\n",
    "-> A mensagem \"Aprovado com Distinção\", se a média for igual a dez."
   ]
  },
  {
   "cell_type": "code",
   "execution_count": 3,
   "metadata": {},
   "outputs": [
    {
     "name": "stdout",
     "output_type": "stream",
     "text": [
      "Digite a primeira nota : 5\n",
      "Digite a segunda nota : 5\n",
      "Reprovado\n"
     ]
    }
   ],
   "source": [
    "n1 = float (input(\"Digite a primeira nota : \"))\n",
    "n2 = float (input(\"Digite a segunda nota : \"))\n",
    "\n",
    "if (n1+n2)/2 == 10:\n",
    "    print (\"Aprovado com Distinção\")\n",
    "elif (n1+n2)/2 >=7:\n",
    "    print (\"Aprovado\")\n",
    "else:\n",
    "    print(\"Reprovado\")"
   ]
  },
  {
   "cell_type": "markdown",
   "metadata": {},
   "source": [
    "4.Faça um Programa que leia três números e mostre-os em ordem decrescente."
   ]
  },
  {
   "cell_type": "code",
   "execution_count": 53,
   "metadata": {},
   "outputs": [
    {
     "name": "stdout",
     "output_type": "stream",
     "text": [
      "Digite a primeiro numero : -1\n",
      "Digite a segundo numero  : 200\n",
      "Digite a terceiro numero : 54\n",
      "============\n",
      "[200.0, 54.0, -1.0]\n"
     ]
    }
   ],
   "source": [
    "num1 = float (input(\"Digite a primeiro numero : \"))\n",
    "num2 = float (input(\"Digite a segundo numero  : \"))\n",
    "num3 = float (input(\"Digite a terceiro numero : \"))\n",
    "\n",
    "lista = [num1,num2,num3]\n",
    "lista.sort()\n",
    "lista.reverse()\n",
    "print (\"==\" *6)\n",
    "print (lista)\n"
   ]
  },
  {
   "cell_type": "markdown",
   "metadata": {},
   "source": [
    "5.As Organizações Tabajara resolveram dar um aumento de salário aos seus\n",
    "colaboradores e lhe contrataram para desenvolver o programa que calculará os\n",
    "reajustes.\n",
    "Faça um programa que recebe o salário de um colaborador e o reajuste segundo o\n",
    "seguinte critério, baseado no salário atual:\n",
    "-> salários até R$ 280,00 (incluindo) : aumento de 20%\n",
    "-> salários entre R$ 280,00 e R$ 700,00 : aumento de 15%\n",
    "-> salários entre R$ 700,00 e R$ 1500,00 : aumento de 10%\n",
    "-> salários de R$ 1500,00 em diante : aumento de 5% Após o aumento ser realizado,\n",
    "informe na tela:\n",
    "-> o salário antes do reajuste;\n",
    "-> o percentual de aumento aplicado;\n",
    "-> o valor do aumento;\n",
    "-> o novo salário, após o aumento."
   ]
  },
  {
   "cell_type": "code",
   "execution_count": 149,
   "metadata": {},
   "outputs": [
    {
     "name": "stdout",
     "output_type": "stream",
     "text": [
      "Digite o salário: 100\n",
      "\n",
      "********* SALÁRIOS ANTES DO AJUSTE ************\n",
      "\n",
      "Salário base de R$ 280,00\n",
      "\n",
      "********* SALÁRIOS DEPOIS DO AJUSTE ************\n",
      "\n",
      "Valor do reajuste de 20%: R$20.0\n",
      "Salário pós aumento: R$120.0\n"
     ]
    }
   ],
   "source": [
    "salario = int (input(\"Digite o salário: \"))\n",
    "ajuste_20p = ((salario*20)/100)\n",
    "ajuste_15p = ((salario*15)/100)\n",
    "ajuste_10p = ((salario*10)/100)\n",
    "ajuste_5p = ((salario*5)/100)\n",
    "total_20p = salario + ajuste_20p\n",
    "total_15p = salario + ajuste_15p\n",
    "total_10p = salario + ajuste_10p\n",
    "total_5p = salario + ajuste_5p\n",
    "\n",
    "print (\"\\n********* SALÁRIOS ANTES DO AJUSTE ************\\n\")\n",
    "if salario <= 280:\n",
    "    print (\"Salário base de R$ 280,00\\n\")\n",
    "elif salario > 280 and salario <= 700:\n",
    "    print (\"Salário base entre 280,00 - R$ 700,00\\n\")\n",
    "elif salario > 700 and salario <= 1500:\n",
    "    print (\"Salário base entre 700,00 - R$ 1500,00\\n\")\n",
    "else:\n",
    "    print (\"Salário base de R$ 1.500,00 ou superior\\n\")\n",
    "    \n",
    "print (\"********* SALÁRIOS DEPOIS DO AJUSTE ************\\n\")\n",
    "if salario <= 280:\n",
    "    print (f\"Valor do reajuste de 20%: R${ajuste_20p}\\nSalário pós aumento: R${total_20p}\")\n",
    "elif salario > 280 and salario <= 700: \n",
    "    print (f\"Valor do reajuste de 15%: R${ajuste_10p}\\nSalário pós aumento: R${total_15p}\")\n",
    "elif salario > 700 and salario <= 1500:\n",
    "    print (f\"Valor do reajuste de 10%: R${ajuste_10p}\\nSalário pós aumento: R${total_10p}\")\n",
    "else:\n",
    "    print (f\"Valor do reajuste de 5%: R${ajuste_5p}\\nSalário pós aumento: R${total_5p}\")"
   ]
  },
  {
   "cell_type": "markdown",
   "metadata": {},
   "source": [
    "6.Faça um Programa que leia um número e exiba o dia correspondente da semana.\n",
    "(1-Domingo, 2- Segunda, etc.), se digitar outro valor deve aparecer valor inválido."
   ]
  },
  {
   "cell_type": "code",
   "execution_count": 115,
   "metadata": {},
   "outputs": [
    {
     "name": "stdout",
     "output_type": "stream",
     "text": [
      "Digite um numero: 8\n",
      "\n",
      "*****DIA DA SEMANA CORRESPONDENTE*****\n",
      "\n",
      "DIGITE UM NUMERO VÁLIDO ENTRE 1 E 7 \n"
     ]
    }
   ],
   "source": [
    "num = int (input(\"Digite um numero: \"))\n",
    "\n",
    "print (\"\\n*****DIA DA SEMANA CORRESPONDENTE*****\\n\")\n",
    "if num == 1:\n",
    "    print (\"Domingo\")\n",
    "elif num == 2:\n",
    "    print(\"Segunda-feira\")\n",
    "elif num == 3:\n",
    "    print(\"Terça-feira\")\n",
    "elif num == 4:\n",
    "    print(\"Quarta-feira\")\n",
    "elif num == 5:\n",
    "    print(\"Quinta-feira\")\n",
    "elif num == 6:\n",
    "    print(\"Sexta-feira\")\n",
    "elif num == 7:\n",
    "    print (\"Domingo\")\n",
    "else:\n",
    "    print (\"DIGITE UM NUMERO VÁLIDO ENTRE 1 E 7 \")"
   ]
  },
  {
   "cell_type": "markdown",
   "metadata": {},
   "source": [
    "7.Faça um programa que lê as duas notas parciais obtidas por um aluno numa\n",
    "disciplina ao longo de um semestre, e calcule a sua média. A atribuição de conceitos\n",
    "obedece à tabela abaixo:\n",
    "Média de Aproveitamento Conceito\n",
    "Entre 9.0 e 10.0 A\n",
    "Entre 7.5 e 9.0 B\n",
    "Entre 6.0 e 7.5 C\n",
    "Entre 4.0 e 6.0 D\n",
    "Entre 4.0 e zero E\n",
    "O algoritmo deve mostrar na tela as notas, a média, o conceito correspondente e a\n",
    "mensagem “APROVADO” se o conceito for A, B ou C ou “REPROVADO” se o conceito\n",
    "for D ou E."
   ]
  },
  {
   "cell_type": "code",
   "execution_count": 147,
   "metadata": {},
   "outputs": [
    {
     "name": "stdout",
     "output_type": "stream",
     "text": [
      "Digite a primeira nota: 5\n",
      "Digite a segunda nota: 5\n",
      "Nota 1:  5.0\n",
      "Nota 2:  5.0\n",
      "Média:  5.0\n",
      "Conceito:  D - REPROVADO\n"
     ]
    }
   ],
   "source": [
    "nota1 = float (input(\"Digite a primeira nota: \"))\n",
    "nota2 = float (input(\"Digite a segunda nota: \"))\n",
    "media_aluno = (nota1 + nota2) /2\n",
    "\n",
    "if media_aluno >= 9 and media_aluno <= 10:\n",
    "    conceito = 'A - APROVADO'\n",
    "elif media_aluno >= 7.5 and media_aluno < 9:\n",
    "    conceito = 'B - APROVADO'\n",
    "elif media_aluno >= 6 and media_aluno < 7.5:\n",
    "    conceito = 'C - APROVADO'\n",
    "elif media_aluno >= 4 and media_aluno < 6:\n",
    "    conceito = 'D - REPROVADO'\n",
    "elif media_aluno < 4:\n",
    "    conceito = 'E - REPROVADO' \n",
    "    \n",
    "print('Nota 1: ', nota1)\n",
    "print('Nota 2: ', nota2)\n",
    "print('Média: ', media_aluno)\n",
    "print('Conceito: ', conceito)"
   ]
  },
  {
   "cell_type": "markdown",
   "metadata": {},
   "source": [
    "8.Faça um Programa que peça os 3 lados de um triângulo. O programa deverá\n",
    "informar se os valores podem ser um triângulo. Indique, caso os lados formem um\n",
    "triângulo, se o mesmo é: equilátero, isósceles ou escaleno.\n",
    "Dicas:\n",
    "- Três lados formam um triângulo quando a soma de quaisquer dois lados for maior\n",
    "que o terceiro;\n",
    "- Triângulo Equilátero: três lados iguais;\n",
    "- Triângulo Isósceles: quaisquer dois lados iguais;\n",
    "- Triângulo Escaleno: três lados diferentes;"
   ]
  },
  {
   "cell_type": "code",
   "execution_count": 157,
   "metadata": {},
   "outputs": [
    {
     "name": "stdout",
     "output_type": "stream",
     "text": [
      "Digite um valor para o 1° lado do triângulo : 1\n",
      "Digite um valor para o 2° lado do triângulo : 2\n",
      "Digite um valor para o 3° lado do triângulo : 3\n",
      "\n",
      "É um triângulo Escaleno\n",
      "\n"
     ]
    }
   ],
   "source": [
    "l1 = float (input(\"Digite um valor para o 1° lado do triângulo : \"))\n",
    "l2 = float (input(\"Digite um valor para o 2° lado do triângulo : \"))\n",
    "l3 = float (input(\"Digite um valor para o 3° lado do triângulo : \"))\n",
    "\n",
    "if l1==l2 and l2==l3 and l3==l1:\n",
    "    print (\"\\nÉ um triângulo Equilátero\\n\")\n",
    "elif l1==l2 or l2==l3 or l3==l1:\n",
    "    print (\"\\nÉ um triângulo Isóceles\\n\")\n",
    "else:\n",
    "    l1!=l2 or l2!=l3 or l3!=l1\n",
    "    print (\"\\nÉ um triângulo Escaleno\\n\")"
   ]
  },
  {
   "cell_type": "markdown",
   "metadata": {},
   "source": [
    "9.Faça um programa que calcule as raízes de uma equação do segundo grau, na\n",
    "forma ax2 + bx + c. O programa deverá pedir os valores de a, b e c e fazer as\n",
    "consistências, informando ao usuário nas seguintes situações:\n",
    "-> Se o usuário informar o valor de A igual a zero, a equação não é do segundo grau e\n",
    "o programa não deve fazer pedir os demais valores, sendo encerrado;\n",
    "-> Se o delta calculado for negativo, a equação não possui raizes reais. Informe ao\n",
    "usuário e encerre o programa;\n",
    "-> Se o delta calculado for igual a zero a equação possui apenas uma raiz real;\n",
    "informe-a ao usuário;\n",
    "-> Se o delta for positivo, a equação possui duas raiz reais; informe-as ao usuário;"
   ]
  },
  {
   "cell_type": "code",
   "execution_count": 175,
   "metadata": {},
   "outputs": [
    {
     "name": "stdout",
     "output_type": "stream",
     "text": [
      "Insira o valor de A: 1\n",
      "Insira o valor de B: 20\n",
      "Insira o valor de C: -5\n",
      "A equação possui duas raizes reais: 0.24695076595959797 e -20.246950765959596\n"
     ]
    }
   ],
   "source": [
    "valor_a = float(input('Insira o valor de A: '))\n",
    "if valor_a == 0:\n",
    "    print(\"Não é uma equação de segundo grau !\")\n",
    "else:\n",
    "    valor_b = float(input('Insira o valor de B: '))\n",
    "    valor_c = float(input('Insira o valor de C: '))\n",
    "    valor_delta = valor_b**2 - 4*valor_a*valor_c\n",
    "    if valor_delta < 0:\n",
    "        print(\"A equação não possui raizes reais! \")\n",
    "    elif valor_delta == 0:\n",
    "        x = -valor_b / (2*valor_a)\n",
    "        print(\"A equação possui apenas uma raiz real:\", x)\n",
    "    else:\n",
    "        x1 = (-valor_b + math.sqrt(valor_delta)) / (2*valor_a)\n",
    "        x2 = (-valor_b - math.sqrt(valor_delta)) / (2*valor_a)\n",
    "        print(f\"A equação possui duas raizes reais: {x1} e {x2}\")"
   ]
  },
  {
   "cell_type": "markdown",
   "metadata": {},
   "source": [
    "10.Faça um Programa para um caixa eletrônico. O programa deverá perguntar ao\n",
    "usuário a valor do saque e depois informar quantas notas de cada valor serão\n",
    "fornecidas. As notas disponíveis serão as de 1, 5, 10, 50 e 100 reais. O valor mínimo é\n",
    "de 10 reais e o máximo de 600 reais. O programa não deve se preocupar com a\n",
    "quantidade de notas existentes na máquina.\n",
    "-> Exemplo 1: Para sacar a quantia de 256 reais, o programa fornece duas notas de\n",
    "100, uma nota de 50, uma nota de 5 e uma nota de 1;\n",
    "-> Exemplo 2: Para sacar a quantia de 399 reais, o programa fornece três notas de\n",
    "100, uma nota de 50, quatro notas de 10, uma nota de 5 e quatro notas de 1."
   ]
  },
  {
   "cell_type": "code",
   "execution_count": 202,
   "metadata": {},
   "outputs": [
    {
     "name": "stdout",
     "output_type": "stream",
     "text": [
      "Qual o valor que deseja sacar? : 601\n",
      "Valor não permitido pra saque!\n"
     ]
    }
   ],
   "source": [
    "valor_saque = int(input('Qual o valor que deseja sacar? : '))\n",
    "\n",
    "if valor_saque > 600 or valor_saque < 10:\n",
    "    print (\"Valor não permitido pra saque!\")\n",
    "else:\n",
    "    n100 = valor_saque // 100\n",
    "    resto = valor_saque % 100\n",
    "    print(f'\\n{n100} notas de 100 reais')\n",
    "    n50 = resto // 50\n",
    "    resto = resto % 50\n",
    "    print(f'{n50} notas de 50 reais')\n",
    "    n10 = resto // 10\n",
    "    resto = resto % 10\n",
    "    print(f'{n10} notas de 10 reais')\n",
    "    n5 = resto // 5\n",
    "    resto = resto % 5\n",
    "    print(f'{n5} notas de 5 reais')\n",
    "    print(f'{resto} notas de 1 real')\n"
   ]
  },
  {
   "cell_type": "markdown",
   "metadata": {},
   "source": [
    "11.Faça um programa que faça 5 perguntas para uma pessoa sobre um crime. As\n",
    "perguntas são:\n",
    "\"Telefonou para a vítima?\"\n",
    "\"Esteve no local do crime?\"\n",
    "\"Mora perto da vítima?\"\n",
    "\"Devia para a vítima?\"\n",
    "\"Já trabalhou com a vítima?\"\n",
    "O programa deve no final emitir uma classificação sobre a participação da pessoa no\n",
    "crime. Se a pessoa responder positivamente a 2 questões ela deve ser classificada\n",
    "como \"Suspeita\", entre 3 e 4 como \"Cúmplice\" e 5 como \"Assassino\". Caso contrário,\n",
    "ele será classificado como \"Inocente\"."
   ]
  },
  {
   "cell_type": "code",
   "execution_count": 52,
   "metadata": {},
   "outputs": [
    {
     "name": "stdout",
     "output_type": "stream",
     "text": [
      "Telefonou para a vítima? sim\n",
      "Esteve no local do crime? sim\n",
      "Mora perto da vítima? sim\n",
      "Devia para a vítima? \n",
      "Já trabalhou com a vítima? \n",
      "\n",
      "Classificação no crime:  Cúmplice\n"
     ]
    }
   ],
   "source": [
    "p1 = input(\"Telefonou para a vítima? \")\n",
    "p2 = input(\"Esteve no local do crime? \")\n",
    "p3 = input(\"Mora perto da vítima? \")\n",
    "p4 = input(\"Devia para a vítima? \")\n",
    "p5 = input(\"Já trabalhou com a vítima? \")\n",
    "\n",
    "if p1 and p2 and p3 and p4 and p5 == \"sim\":\n",
    "    classificação = \"Assasino\"\n",
    "elif p1 and p2 and p3 == \"sim\" or p2 and p3 and p4 == \"sim\" or p3 and p4 and p5 == \"sim\" or p4 and p5 and p1 == \"sim\" or p5 and p1 and p2 == \"sim\" or p1 and p2 and p3 and p4 == \"sim\" or p2 and p3 and p4 and p5 == \"sim\" or p3 and p4 and p5 and p1 == \"sim\" or p4 and p5 and p1 and p2 == \"sim\" or p5 and p1 and p2 and p3 == \"sim\":\n",
    "    classificação = \"Cúmplice\"\n",
    "elif p1 and p2 == \"sim\" or p1 and p3 == \"sim\" or p1 and p4 == \"sim\" or p1 and p5 == \"sim\":\n",
    "    classificação = \"Suspeito\"\n",
    "else:\n",
    "    classificação = \"Inocente\"\n",
    "    \n",
    "print('\\nClassificação no crime: ', classificação)"
   ]
  },
  {
   "cell_type": "markdown",
   "metadata": {},
   "source": [
    "12.Uma fruteira está vendendo frutas com a seguinte tabela de preços:\n",
    "Até 5 Kg Acima de 5 Kg\n",
    "Morango R$ 2,50 por Kg R$ 2,20 por Kg\n",
    "Maçã R$ 1,80 por Kg R$ 1,50 por Kg\n",
    "Se o cliente comprar mais de 8 Kg em frutas ou o valor total da compra ultrapassar\n",
    "R$ 25,00, receberá ainda um desconto de 10% sobre este total. Escreva um\n",
    "algoritmo para ler a quantidade (em Kg) de morangos e a quantidade (em Kg) de\n",
    "maças adquiridas e escreva o valor a ser pago pelo cliente."
   ]
  },
  {
   "cell_type": "code",
   "execution_count": 114,
   "metadata": {},
   "outputs": [
    {
     "name": "stdout",
     "output_type": "stream",
     "text": [
      "Quantos kilos de morango deseja comprar?  10\n",
      "Quantos kilos de maçã deseja comprar?  10\n",
      "Total c/desconto R$:  33.3\n",
      "Total R$: 37.0\n"
     ]
    }
   ],
   "source": [
    "kg_morango = int (input(\"Quantos kilos de morango deseja comprar?  \"))\n",
    "kg_maçã = int (input(\"Quantos kilos de maçã deseja comprar?  \"))\n",
    "desconto_morango = (((kg_morango * 2.20)*10)/100)\n",
    "desconto_maçã = (((kg_maçã * 1.50)*10)/100)\n",
    "total_gasto = 0\n",
    "\n",
    "if kg_morango <= 5 or kg_maçã <= 5:\n",
    "    total_gasto = (kg_morango * 2.50) + (kg_maçã * 1.80)\n",
    "else:\n",
    "    total_gasto = (kg_morango * 2.20) + (kg_maçã * 1.50)\n",
    "\n",
    "if kg_morango and kg_maçã > 8 or total_gasto > 25.0:\n",
    "    total_gasto = ((kg_morango * 2.20) + (kg_maçã * 1.50))\n",
    "    (total_gasto - (desconto_morango + desconto_maçã))\n",
    "    print (\"Total c/desconto R$: \" , (total_gasto - (desconto_morango + desconto_maçã)))\n",
    "else:\n",
    "    pass\n",
    "\n",
    "print (\"Total R$:\" , total_gasto)"
   ]
  },
  {
   "cell_type": "markdown",
   "metadata": {},
   "source": [
    "13.Faça um programa que peça uma nota, entre zero e dez. Mostre uma mensagem\n",
    "caso o valor seja inválido e continue pedindo até que o usuário informe um valor\n",
    "válido."
   ]
  },
  {
   "cell_type": "code",
   "execution_count": 4,
   "metadata": {
    "scrolled": true
   },
   "outputs": [
    {
     "name": "stdout",
     "output_type": "stream",
     "text": [
      "Digite uma nota entre 0 à 10...\n",
      "-1\n",
      "\n",
      "Nota digitada: -1 .. Inválida! , digite um numero válido...\n",
      "Digite uma nota entre 0 à 10...\n",
      "11\n",
      "\n",
      "Nota digitada: 11 .. Inválida! , digite um numero válido...\n",
      "Digite uma nota entre 0 à 10...\n",
      "5\n",
      "\n",
      "Nota digitada: 5 .. Válida!\n",
      "\n"
     ]
    }
   ],
   "source": [
    "nota = int (input(\"Digite uma nota entre 0 à 10...\\n\"))\n",
    "while nota < 0 or nota > 10:\n",
    "    print(f\"\\nNota digitada: {nota} .. Inválida! , digite um numero válido...\")\n",
    "    nota = int (input(\"Digite uma nota entre 0 à 10...\\n\"))\n",
    "else:\n",
    "    print (f\"\\nNota digitada: {nota} .. Válida!\\n\")\n",
    "    "
   ]
  },
  {
   "cell_type": "markdown",
   "metadata": {},
   "source": [
    "14.Faça um programa que leia e valide as seguintes informações:\n",
    "Nome: maior que 3 caracteres;\n",
    "Idade: entre 0 e 150;\n",
    "Salário: maior que zero;\n",
    "Sexo: 'f' ou 'm';\n",
    "Estado Civil: 's', 'c', 'v', 'd';"
   ]
  },
  {
   "cell_type": "code",
   "execution_count": 2,
   "metadata": {},
   "outputs": [
    {
     "name": "stdout",
     "output_type": "stream",
     "text": [
      "Insira o nome: a\n",
      "Nome incorreto , mínimo 3 caracteres... Andre\n",
      "Insira a idade: -1\n",
      "Insira incorrera.. , digite de 0 à 150: 10\n",
      "Insira o salário: -1\n",
      "Valor do salário incorreto, digite um valor maior que 0: 50\n",
      "Insira o sexo (f/m): a\n",
      "Sexo incorreto..., digite (f/m): f\n",
      "Insira o estado civil (s/c/v/d): a\n",
      "Estado civil incorreto..., digite (s/c/v/d): s\n"
     ]
    }
   ],
   "source": [
    "nome = input(\"Insira o nome: \")\n",
    "while len(nome) <= 3:\n",
    "    nome = input(\"Nome incorreto , mínimo 3 caracteres... \")\n",
    "    \n",
    "idade = int(input(\"Insira a idade: \"))\n",
    "while idade < 0 or idade > 150:\n",
    "    idade = int(input(\"Insira incorrera.. , digite de 0 à 150: \"))\n",
    "    \n",
    "salario = int(input(\"Insira o salário: \"))\n",
    "while salario <= 0:\n",
    "    salario = int(input(\"Valor do salário incorreto, digite um valor maior que 0: \"))\n",
    "    \n",
    "sexo = input(\"Insira o sexo (f/m): \")\n",
    "while not (sexo in ['f', 'm']):\n",
    "    sexo = input(\"Sexo incorreto..., digite (f/m): \")\n",
    "    \n",
    "estado_civil = input(\"Insira o estado civil (s/c/v/d): \")\n",
    "while not (estado_civil in ['s', 'c', 'v', 'd']):\n",
    "    estado_civil = input(\"Estado civil incorreto..., digite (s/c/v/d): \")"
   ]
  },
  {
   "cell_type": "markdown",
   "metadata": {},
   "source": [
    "15.Faça um programa que leia 5 números e informe o maior número."
   ]
  },
  {
   "cell_type": "code",
   "execution_count": 12,
   "metadata": {},
   "outputs": [
    {
     "name": "stdout",
     "output_type": "stream",
     "text": [
      "Digite o 1° número: 5\n",
      "Digite o 2° número 6\n",
      "Digite o 3° número 4\n",
      "Digite o 4° número 90\n",
      "Digite o 5° número 1\n",
      "O maior numero é 90\n"
     ]
    }
   ],
   "source": [
    "maior_numero = int (input(\"Digite o 1° número: \"))\n",
    "for c in range (2,6):\n",
    "    numero = int (input(f\"Digite o {c}° número \"))\n",
    "    if numero > maior_numero:\n",
    "        maior_numero = numero\n",
    "print (f\"O maior numero é: {maior_numero}\")"
   ]
  },
  {
   "cell_type": "markdown",
   "metadata": {},
   "source": [
    "16.Faça um programa que leia 5 números e informe a soma e a média dos números."
   ]
  },
  {
   "cell_type": "code",
   "execution_count": 25,
   "metadata": {},
   "outputs": [
    {
     "name": "stdout",
     "output_type": "stream",
     "text": [
      "Digite o 1° número 5\n",
      "Digite o 2° número 5\n",
      "Digite o 3° número 5\n",
      "Digite o 4° número 5\n",
      "Digite o 5° número 5\n",
      "Soma dos números:25\n",
      "Media dos números:5.0\n"
     ]
    }
   ],
   "source": [
    "soma_numeros = 0\n",
    "for c in range (1,6):\n",
    "    soma_numeros += int (input(f\"Digite o {c}° número \"))\n",
    "print(f\"Soma dos números:{soma_numeros}\\nMedia dos números:{soma_numeros/5}\")"
   ]
  },
  {
   "cell_type": "markdown",
   "metadata": {},
   "source": [
    "17.Faça um programa que imprima na tela apenas os números ímpares entre 1 e 50."
   ]
  },
  {
   "cell_type": "code",
   "execution_count": 28,
   "metadata": {},
   "outputs": [
    {
     "name": "stdout",
     "output_type": "stream",
     "text": [
      "1\n",
      "3\n",
      "5\n",
      "7\n",
      "9\n",
      "11\n",
      "13\n",
      "15\n",
      "17\n",
      "19\n",
      "21\n",
      "23\n",
      "25\n",
      "27\n",
      "29\n",
      "31\n",
      "33\n",
      "35\n",
      "37\n",
      "39\n",
      "41\n",
      "43\n",
      "45\n",
      "47\n",
      "49\n"
     ]
    }
   ],
   "source": [
    "for numero in range (1,51):\n",
    "    if numero % 2 != 0:\n",
    "        print(numero)"
   ]
  },
  {
   "cell_type": "markdown",
   "metadata": {},
   "source": [
    "18.Desenvolva um gerador de tabuada, capaz de gerar a tabuada de qualquer\n",
    "número inteiro entre 1 a 10. O usuário deve informar de qual numero ele deseja ver\n",
    "a tabuada. A saída deve ser conforme o exemplo abaixo:\n",
    "Tabuada de 5:\n",
    "5 X 1 = 5\n",
    "5 X 2 = 10\n",
    "...\n",
    "5 X 10 = 50"
   ]
  },
  {
   "cell_type": "code",
   "execution_count": 1,
   "metadata": {},
   "outputs": [
    {
     "name": "stdout",
     "output_type": "stream",
     "text": [
      "digite um numero de 1 a 10: 3\n",
      "3 X 1 = 3\n",
      "3 X 2 = 6\n",
      "3 X 3 = 9\n",
      "3 X 4 = 12\n",
      "3 X 5 = 15\n",
      "3 X 6 = 18\n",
      "3 X 7 = 21\n",
      "3 X 8 = 24\n",
      "3 X 9 = 27\n",
      "3 X 10 = 30\n"
     ]
    }
   ],
   "source": [
    "numero = int(input(\"digite um numero para ver sua tabuada de 1 à 10: \"))\n",
    "contador = 1\n",
    "\n",
    "while contador <= 10:\n",
    "    resultado = numero * contador\n",
    "    print(numero, \"X\", contador, \"=\", resultado)\n",
    "    contador = contador + 1"
   ]
  },
  {
   "cell_type": "markdown",
   "metadata": {},
   "source": [
    "19.A série de Fibonacci é formada pela seqüência 1,1,2,3,5,8,13,21,34,55,... Faça um\n",
    "programa capaz de gerar a série até o n−ésimo termo.\n"
   ]
  },
  {
   "cell_type": "code",
   "execution_count": 10,
   "metadata": {},
   "outputs": [
    {
     "name": "stdout",
     "output_type": "stream",
     "text": [
      "***Sequência até o nonésimo termo***\n",
      "\n",
      "1\n",
      "1\n",
      "2\n",
      "3\n",
      "5\n",
      "8\n",
      "13\n",
      "21\n",
      "34\n",
      "55\n",
      "89\n"
     ]
    }
   ],
   "source": [
    "penultimo_termo = 1\n",
    "ultimo_termo = 1\n",
    "contador = 1\n",
    "print (\"***Sequência até o nonésimo termo***\\n\")\n",
    "print(penultimo_termo)\n",
    "print(ultimo_termo)\n",
    "\n",
    "while contador <= 9:\n",
    "        termo = penultimo_termo + ultimo_termo \n",
    "        penultimo_termo = ultimo_termo\n",
    "        ultimo_termo = termo\n",
    "        contador += 1\n",
    "        print(termo)"
   ]
  },
  {
   "cell_type": "markdown",
   "metadata": {},
   "source": [
    "20.Faça um programa que calcule o fatorial de um número inteiro fornecido pelo\n",
    "usuário. Ex.: 5!=5.4.3.2.1=120"
   ]
  },
  {
   "cell_type": "code",
   "execution_count": 23,
   "metadata": {},
   "outputs": [
    {
     "name": "stdout",
     "output_type": "stream",
     "text": [
      "Digite um numero : 5\n",
      "Seu fatorial é: 120\n"
     ]
    }
   ],
   "source": [
    "num = int(input(\"Digite um numero : \"))\n",
    "for v in range(1, num):\n",
    "    num = num * v\n",
    "print(f\"Seu fatorial é: {num}\")"
   ]
  },
  {
   "cell_type": "markdown",
   "metadata": {},
   "source": [
    "21.O Sr. Manoel Joaquim possui uma grande loja de artigos de R$ 1,99, com cerca\n",
    "de 10 caixas. Para agilizar o cálculo de quanto cada cliente deve pagar ele\n",
    "desenvolveu um tabela que contém o número de itens que o cliente comprou e ao\n",
    "lado o valor da conta. Desta forma a atendente do caixa precisa apenas contar\n",
    "quantos itens o cliente está levando e olhar na tabela de preços. Você foi contratado\n",
    "para desenvolver o programa que monta esta tabela de preços, que conterá os\n",
    "preços de 1 até 50 produtos, conforme o exemplo abaixo:\n",
    "Lojas Quase Dois - Tabela de preços\n",
    "1 - R$ 1.99\n",
    "2 - R$ 3.98\n",
    "...\n",
    "50 - R$ 99.50"
   ]
  },
  {
   "cell_type": "code",
   "execution_count": 49,
   "metadata": {},
   "outputs": [
    {
     "name": "stdout",
     "output_type": "stream",
     "text": [
      "1 - R$ 1.99\n",
      "2 - R$ 3.98\n",
      "3 - R$ 5.97\n",
      "4 - R$ 7.96\n",
      "5 - R$ 9.95\n",
      "6 - R$ 11.94\n",
      "7 - R$ 13.93\n",
      "8 - R$ 15.92\n",
      "9 - R$ 17.91\n",
      "10 - R$ 19.9\n",
      "11 - R$ 21.89\n",
      "12 - R$ 23.88\n",
      "13 - R$ 25.87\n",
      "14 - R$ 27.86\n",
      "15 - R$ 29.85\n",
      "16 - R$ 31.84\n",
      "17 - R$ 33.83\n",
      "18 - R$ 35.82\n",
      "19 - R$ 37.81\n",
      "20 - R$ 39.8\n",
      "21 - R$ 41.79\n",
      "22 - R$ 43.78\n",
      "23 - R$ 45.77\n",
      "24 - R$ 47.76\n",
      "25 - R$ 49.75\n",
      "26 - R$ 51.74\n",
      "27 - R$ 53.73\n",
      "28 - R$ 55.72\n",
      "29 - R$ 57.71\n",
      "30 - R$ 59.7\n",
      "31 - R$ 61.69\n",
      "32 - R$ 63.68\n",
      "33 - R$ 65.67\n",
      "34 - R$ 67.66\n",
      "35 - R$ 69.65\n",
      "36 - R$ 71.64\n",
      "37 - R$ 73.63\n",
      "38 - R$ 75.62\n",
      "39 - R$ 77.61\n",
      "40 - R$ 79.6\n",
      "41 - R$ 81.59\n",
      "42 - R$ 83.58\n",
      "43 - R$ 85.57\n",
      "44 - R$ 87.56\n",
      "45 - R$ 89.55\n",
      "46 - R$ 91.54\n",
      "47 - R$ 93.53\n",
      "48 - R$ 95.52\n",
      "49 - R$ 97.51\n",
      "50 - R$ 99.5\n"
     ]
    }
   ],
   "source": [
    "#from random import randint\n",
    "for numero in range (1,51):\n",
    "    total = numero * 1.99 \n",
    "    print (f\"{numero} - R$ {total}\")"
   ]
  },
  {
   "cell_type": "markdown",
   "metadata": {},
   "source": [
    "22.O Sr. Manoel Joaquim acaba de adquirir uma panificadora e pretende implantar\n",
    "a metodologia da tabelinha, que já é um sucesso na sua loja de 1,99. Você foi\n",
    "contratado para desenvolver o programa que monta a tabela de preços de pães, de\n",
    "1 até 50 pães, a partir do preço do pão informado pelo usuário, conforme o exemplo\n",
    "abaixo:\n",
    "Preço do pão: R$ 0.18\n",
    "Panificadora Pão de Ontem - Tabela de preços\n",
    "1 - R$ 0.18\n",
    "2 - R$ 0.36\n",
    "...\n",
    "50 - R$ 9.00"
   ]
  },
  {
   "cell_type": "code",
   "execution_count": 63,
   "metadata": {},
   "outputs": [
    {
     "name": "stdout",
     "output_type": "stream",
     "text": [
      "Insira o preço do pão: 0.18\n",
      "1 - R$ 0.18\n",
      "2 - R$ 0.36\n",
      "3 - R$ 0.54\n",
      "4 - R$ 0.72\n",
      "5 - R$ 0.9\n",
      "6 - R$ 1.08\n",
      "7 - R$ 1.26\n",
      "8 - R$ 1.44\n",
      "9 - R$ 1.62\n",
      "10 - R$ 1.8\n",
      "11 - R$ 1.98\n",
      "12 - R$ 2.16\n",
      "13 - R$ 2.34\n",
      "14 - R$ 2.52\n",
      "15 - R$ 2.7\n",
      "16 - R$ 2.88\n",
      "17 - R$ 3.06\n",
      "18 - R$ 3.24\n",
      "19 - R$ 3.42\n",
      "20 - R$ 3.6\n",
      "21 - R$ 3.78\n",
      "22 - R$ 3.96\n",
      "23 - R$ 4.14\n",
      "24 - R$ 4.32\n",
      "25 - R$ 4.5\n",
      "26 - R$ 4.68\n",
      "27 - R$ 4.86\n",
      "28 - R$ 5.04\n",
      "29 - R$ 5.22\n",
      "30 - R$ 5.4\n",
      "31 - R$ 5.58\n",
      "32 - R$ 5.76\n",
      "33 - R$ 5.94\n",
      "34 - R$ 6.12\n",
      "35 - R$ 6.3\n",
      "36 - R$ 6.48\n",
      "37 - R$ 6.66\n",
      "38 - R$ 6.84\n",
      "39 - R$ 7.02\n",
      "40 - R$ 7.2\n",
      "41 - R$ 7.38\n",
      "42 - R$ 7.56\n",
      "43 - R$ 7.74\n",
      "44 - R$ 7.92\n",
      "45 - R$ 8.1\n",
      "46 - R$ 8.28\n",
      "47 - R$ 8.46\n",
      "48 - R$ 8.64\n",
      "49 - R$ 8.82\n",
      "50 - R$ 9.0\n"
     ]
    }
   ],
   "source": [
    "preco_pao = float(input(\"Insira o preço do pão: \"))\n",
    "for numero in range (1,51):\n",
    "    total = numero * preco_pao \n",
    "    print (f\"{numero} - R$ {round(total,2)}\")\n",
    "    #round(3.141592653589793, 2) -> arredondamento"
   ]
  },
  {
   "cell_type": "markdown",
   "metadata": {},
   "source": [
    "23.O Sr. Manoel Joaquim expandiu seus negócios para além dos negócios de 1,99 e\n",
    "agora possui uma loja de conveniências. Faça um programa que implemente uma\n",
    "caixa registradora rudimentar. O programa deverá receber um número\n",
    "desconhecido de valores referentes aos preços das mercadorias. Um valor zero deve\n",
    "ser informado pelo operador para indicar o final da compra. O programa deve então\n",
    "mostrar o total da compra e perguntar o valor em dinheiro que o cliente forneceu,\n",
    "para então calcular e mostrar o valor do troco. Após esta operação, o programa\n",
    "deverá voltar ao ponto inicial, para registrar a próxima compra. A saída deve ser\n",
    "conforme o exemplo abaixo:\n",
    "Lojas Tabajara\n",
    "Produto 1: R$ 2.20\n",
    "Produto 2: R$ 5.80\n",
    "Produto 3: R$ 0\n",
    "Total: R$ 9.00\n",
    "Dinheiro: R$ 20.00\n",
    "Troco: R$ 11.00"
   ]
  },
  {
   "cell_type": "code",
   "execution_count": 18,
   "metadata": {},
   "outputs": [
    {
     "name": "stdout",
     "output_type": "stream",
     "text": [
      "Digite o valor do produto: 10\n",
      "Produto 1: R$ 10.0\n",
      "Digite o valor do produto: 10\n",
      "Produto 2: R$ 10.0\n",
      "Digite o valor do produto: 10\n",
      "Produto 3: R$ 10.0\n",
      "Digite o valor do produto: 0\n",
      "Total: R$ 30.0\n",
      "Insira o valor a ser pago: 50\n",
      "Troco: R$  20.0\n"
     ]
    }
   ],
   "source": [
    "total = 0\n",
    "produto = 0\n",
    "preco_produto = -1\n",
    "while preco_produto != 0:\n",
    "    preco_produto = float(input(\"Digite o valor do produto: \"))\n",
    "    total += preco_produto\n",
    "    produto += 1\n",
    "    if preco_produto == 0:\n",
    "        print(f\"Total: R$ {total}\")\n",
    "        pago = float(input(\"Insira o valor a ser pago: \"))\n",
    "        print(\"Troco: R$ \", pago - total)\n",
    "    else:\n",
    "        print(f\"Produto {produto}: R$ {preco_produto}\")\n",
    "    "
   ]
  },
  {
   "cell_type": "markdown",
   "metadata": {},
   "source": [
    "24.Foi feita uma estatística em cinco cidades brasileiras para coletar dados sobre\n",
    "acidentes de trânsito. Foram obtidos os seguintes dados:\n",
    "-> Código da cidade;\n",
    "-> Número de veículos de passeio (em 1999);\n",
    "-> Número de acidentes de trânsito com vítimas (em 1999). Deseja-se saber:\n",
    "-> Qual o maior e menor índice de acidentes de transito e a que cidade pertence;\n",
    "-> Qual a média de veículos nas cinco cidades juntas;\n",
    "-> Qual a média de acidentes de trânsito nas cidades com menos de 2.000 veículos de\n",
    "passeio."
   ]
  },
  {
   "cell_type": "code",
   "execution_count": 31,
   "metadata": {},
   "outputs": [
    {
     "name": "stdout",
     "output_type": "stream",
     "text": [
      "Maior índice de acidentes pertence a cidade: [15650, 53]\n",
      "Menor índice de acidentes pertence a cidade: [2, 'MA']\n",
      "Média de veículos nas cinco cidades juntas: 5420.8\n",
      "Média de acidentes nas cidades com menos de 2.000 veículos de passeio: 8.67\n"
     ]
    },
    {
     "data": {
      "text/plain": [
       "{'SP': [15650, 53],\n",
       " 'RJO': [8450, 16],\n",
       " 'PA': [1200, 3],\n",
       " 'MA': [600, 2],\n",
       " 'AM': [1204, 21]}"
      ]
     },
     "execution_count": 31,
     "metadata": {},
     "output_type": "execute_result"
    }
   ],
   "source": [
    "num_veiculos = 0\n",
    "num_acidentes = 0\n",
    "num_cidades = 0\n",
    "\n",
    "#código da cidade #veículos #acidentes (respectivamente)\n",
    "cidades = {\"SP\":[15650,53],\"RJO\":[8450,16],\"PA\":[1200,3],\"MA\":[600,2],\"AM\":[1204,21]}\n",
    "\n",
    "menor_indice = [cidades[\"SP\"][0],cidades[\"SP\"][1]]\n",
    "maior_indice = [cidades[\"SP\"][0],cidades[\"SP\"][1]]\n",
    "\n",
    "for codigo in cidades:\n",
    "    num_veiculos += cidades[codigo][0]\n",
    "    if cidades[codigo][0] < 2000:\n",
    "        num_acidentes += cidades[codigo][1]\n",
    "        num_cidades += 1\n",
    "    if cidades[codigo][1] > maior_indice[0]:\n",
    "        maior_indice[0] = cidades[codigo][1]\n",
    "        maior_indice[1] = codigo\n",
    "    if cidades[codigo][1] < menor_indice[0]:\n",
    "        menor_indice[0] = cidades[codigo][1]\n",
    "        menor_indice[1] = codigo\n",
    "        \n",
    "    \n",
    "media_veiculos = num_veiculos / len(cidades.keys())\n",
    "media_acidentes = num_acidentes / num_cidades\n",
    "\n",
    "print(\"Maior índice de acidentes pertence a cidade:\",maior_indice)\n",
    "print(\"Menor índice de acidentes pertence a cidade:\",menor_indice)\n",
    "print(\"Média de veículos nas cinco cidades juntas:\",media_veiculos)\n",
    "print(\"Média de acidentes nas cidades com menos de 2.000 veículos de passeio:\",round(media_acidentes,2))\n",
    "cidades"
   ]
  },
  {
   "cell_type": "markdown",
   "metadata": {},
   "source": [
    "25.Faça um programa que receba o valor de uma dívida e mostre uma tabela com\n",
    "os seguintes dados: valor da dívida, valor dos juros, quantidade de parcelas e valor\n",
    "da parcela.\n",
    "Os juros e a quantidade de parcelas seguem a tabela abaixo:\n",
    "Quantidade de Parcelas % de Juros sobre o valor inicial da dívida\n",
    "1 0\n",
    "3 10\n",
    "6 15\n",
    "9 20\n",
    "12 25\n",
    "Exemplo de saída do programa:\n",
    "Valor da Dívida Valor dos Juros Quantidade de Parcelas Valor da Parcela\n",
    "R$ 1.000,00 0 1 R$ 1.000,00\n",
    "R$ 1.100,00 100 3 R$ 366,00\n",
    "R$ 1.150,00 150 6 R$ 191,67"
   ]
  },
  {
   "cell_type": "code",
   "execution_count": 59,
   "metadata": {},
   "outputs": [
    {
     "name": "stdout",
     "output_type": "stream",
     "text": [
      "Insira o valor da dívida: 1000\n",
      "Dívida \t Valor Juros \t Qtde Parcelas \t Valor da Parcela\n",
      "R$ 1000.0 \t 0.0 \t 1 \t R$ 1000.00\n",
      "R$ 1100.0 \t 100.0 \t 3 \t R$ 366.67\n",
      "R$ 1150.0 \t 150.0 \t 6 \t R$ 191.67\n",
      "R$ 1200.0 \t 200.0 \t 9 \t R$ 133.33\n",
      "R$ 1250.0 \t 250.0 \t 12 \t R$ 104.17\n"
     ]
    }
   ],
   "source": [
    "valor_divida = float(input(\"Insira o valor da dívida: \"))\n",
    "print(\"Dívida \\t Valor Juros \\t Qtde Parcelas \\t Valor da Parcela\")\n",
    "\n",
    "for c in range(0, 5):\n",
    "    if c == 0:\n",
    "        juros = 0\n",
    "    elif c == 1:\n",
    "        juros = 10\n",
    "    else:\n",
    "        juros += 5\n",
    "    valor_juros = valor_divida * (juros / 100)\n",
    "    divida = valor_divida + valor_juros\n",
    "    if c == 0:\n",
    "        qnt_parcelas = 1\n",
    "    else:\n",
    "        qnt_parcelas = c * 3\n",
    "    if qnt_parcelas != 0:\n",
    "        valor_parcela = divida / qnt_parcelas\n",
    "    else:\n",
    "        valor_parcela = divida\n",
    "    print(f\"R$ {divida} \\t {valor_juros} \\t {qnt_parcelas} \\t R$ %.2f\"%(valor_parcela))\n",
    "\n",
    "\n",
    "#print (\"valor dívida\\nR$:\", valor_divida )\n",
    "#print (\"valor juros\\nR$:\", valor_juros )\n",
    "#print (\"Quantidade de parcelas\\nR$:\", qnt_parcelas)\n",
    "#print (\"Valor parcela\\nR$:\", valor_parcela)"
   ]
  },
  {
   "cell_type": "markdown",
   "metadata": {},
   "source": [
    "26.Faça um programa que mostre os n termos da Série a seguir:\n",
    "S = 1/1 + 2/3 + 3/5 + 4/7 + 5/9 + ... + n/m.\n",
    "Imprima no final a soma da série."
   ]
  },
  {
   "cell_type": "code",
   "execution_count": 62,
   "metadata": {},
   "outputs": [
    {
     "name": "stdout",
     "output_type": "stream",
     "text": [
      "S = 1 / 1  + 2 / 3  + 3 / 5  + 4 / 7  + 5 / 9  + 6 / 11  + 7 / 13  + 8 / 15  + 9 / 17  + 10 / 19  =  45 / 81\n"
     ]
    }
   ],
   "source": [
    "n1 = 1\n",
    "n2 = 1\n",
    "n1_lista = []\n",
    "n2_lista = []\n",
    "print(\"S = \", end = \"\")\n",
    "while n1 <= 10 -1:\n",
    "    print(n1, \"/\", n2, \" + \", end=\"\")\n",
    "    n1_lista.append(n1)\n",
    "    n2_lista.append(n2)\n",
    "    n1 += 1\n",
    "    n2 += 2\n",
    "\n",
    "print(n1,\"/\",n2, \" = \", sum(n1_lista), \"/\", sum(n2_lista))"
   ]
  }
 ],
 "metadata": {
  "kernelspec": {
   "display_name": "Python 3",
   "language": "python",
   "name": "python3"
  },
  "language_info": {
   "codemirror_mode": {
    "name": "ipython",
    "version": 3
   },
   "file_extension": ".py",
   "mimetype": "text/x-python",
   "name": "python",
   "nbconvert_exporter": "python",
   "pygments_lexer": "ipython3",
   "version": "3.7.1"
  }
 },
 "nbformat": 4,
 "nbformat_minor": 2
}
