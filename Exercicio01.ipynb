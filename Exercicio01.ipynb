{
 "cells": [
  {
   "cell_type": "markdown",
   "metadata": {},
   "source": [
    "#### Victor Ricardo Hernandes\n",
    "#### RA : 817122837\n",
    "#### Lista 1"
   ]
  },
  {
   "cell_type": "markdown",
   "metadata": {},
   "source": [
    "1.Faça um Programa que peça o raio de um círculo, calcule e mostre sua área."
   ]
  },
  {
   "cell_type": "code",
   "execution_count": 3,
   "metadata": {},
   "outputs": [
    {
     "name": "stdout",
     "output_type": "stream",
     "text": [
      "Digite o raio do raio 10\n",
      "O Valor da área é : 100\n"
     ]
    }
   ],
   "source": [
    "raio = int (input(\"Digite o raio do raio \"))\n",
    "area = raio **2\n",
    "#área = 3,14 * raio ^2 ,porém não é solicitado o diâmetro\n",
    "if raio <= 0:\n",
    "    raio = 0\n",
    "raio = area      \n",
    "print (f'O Valor da área é : {raio}')"
   ]
  },
  {
   "cell_type": "markdown",
   "metadata": {},
   "source": [
    "2.Faça um Programa que calcule a área de um quadrado, em seguida mostre o dobro\n",
    "desta área para o usuário."
   ]
  },
  {
   "cell_type": "code",
   "execution_count": null,
   "metadata": {},
   "outputs": [],
   "source": [
    "lado = int (input(\"Digite a area do quadrado \"))\n",
    "#area = l**2 , tendo em vista que não foi específicado o tipo de quadrado , tomamos como base um quadrilátero.\n",
    "area_quadrado  = lado **2 \n",
    "print (f'O Valor do dobro da área é : {area_quadrado *2}')"
   ]
  },
  {
   "cell_type": "markdown",
   "metadata": {},
   "source": [
    "3.Faça um Programa que pergunte quanto você ganha por hora e o número de horas\n",
    "trabalhadas no mês. Calcule e mostre o total do seu salário no referido mês."
   ]
  },
  {
   "cell_type": "code",
   "execution_count": 16,
   "metadata": {},
   "outputs": [
    {
     "name": "stdout",
     "output_type": "stream",
     "text": [
      "Digite o valor ganho por hora 60.00\n",
      "Digite a quantidade de horas trabalhadas no mês 60\n",
      "O valor do sálário mensal é de R$ 3600.0\n"
     ]
    }
   ],
   "source": [
    "valor_porhora = float(input(f\"Digite o valor ganho por hora \"))\n",
    "horas_mes = float(input(f\"Digite a quantidade de horas trabalhadas no mês \"))\n",
    "salario = valor_porhora * horas_mes\n",
    "\n",
    "print (f'O valor do sálário mensal é de R$ {salario}') "
   ]
  },
  {
   "cell_type": "markdown",
   "metadata": {},
   "source": [
    "4.Faça um Programa que peça a temperatura em graus Farenheit, transforme e\n",
    "mostre a temperatura em graus Celsius. C = (5 * (F-32) / 9)."
   ]
  },
  {
   "cell_type": "code",
   "execution_count": 17,
   "metadata": {},
   "outputs": [
    {
     "name": "stdout",
     "output_type": "stream",
     "text": [
      "Digite a temperatura em °F 50\n",
      "A temperatura é de : 10.00 °C\n"
     ]
    }
   ],
   "source": [
    "temp_far = float (input(f\"Digite a temperatura em °F \"))\n",
    "conversao = ((5 * (temp_far-32)) / 9)\n",
    "temp_cel = conversao\n",
    "print (f'A temperatura é de :{temp_cel: 2.2f} °C')"
   ]
  },
  {
   "cell_type": "markdown",
   "metadata": {},
   "source": [
    "5.Faça um Programa que peça a temperatura em graus Celsius, transforme e mostre\n",
    "em graus Farenheit."
   ]
  },
  {
   "cell_type": "code",
   "execution_count": 125,
   "metadata": {},
   "outputs": [
    {
     "name": "stdout",
     "output_type": "stream",
     "text": [
      "Digite a temperatura em °C 29\n",
      "A temperatura é de : 84.20 °F\n"
     ]
    }
   ],
   "source": [
    "tmp_cel = float (input(f\"Digite a temperatura em °C \"))\n",
    "conversao2 = ((tmp_cel * 9/5) +32)\n",
    "tmp_far = conversao2\n",
    "print (f'A temperatura é de :{tmp_far: 2.2f} °F')"
   ]
  },
  {
   "cell_type": "markdown",
   "metadata": {},
   "source": [
    "6.Faça um Programa que peça 2 números inteiros e um número real. Calcule e\n",
    "mostre:\n",
    "- o produto do dobro do primeiro com metade do segundo .\n",
    "- a soma do triplo do primeiro com o terceiro.\n",
    "- o terceiro elevado ao cubo."
   ]
  },
  {
   "cell_type": "code",
   "execution_count": 7,
   "metadata": {
    "scrolled": true
   },
   "outputs": [
    {
     "name": "stdout",
     "output_type": "stream",
     "text": [
      "Digite o primeiro número inteiro 2\n",
      "Digite o segundo número inteiro 2\n",
      "Digite o terceiro número real -3\n",
      "O resultado da primeira conta é :4.0\n",
      "O resultado da segunda conta é :3.0\n",
      "O resultado da terceira conta é :-27.0\n"
     ]
    }
   ],
   "source": [
    "num_1 = int (input(f\"Digite o primeiro número inteiro \"))\n",
    "num_2 = int (input(f\"Digite o segundo número inteiro \"))\n",
    "num_3 = float (input(f\"Digite o terceiro número real \"))\n",
    "\n",
    "cnt_1 = ((num_1 *2 ) * num_2/2)\n",
    "print (f'O resultado da primeira conta é :{cnt_1}')\n",
    "\n",
    "cnt_2 = ((num_1 *3 ) + num_3 )\n",
    "print (f'O resultado da segunda conta é :{cnt_2}')\n",
    "\n",
    "cnt_3 = (num_3 **3)\n",
    "print (f'O resultado da terceira conta é :{cnt_3}')"
   ]
  },
  {
   "cell_type": "markdown",
   "metadata": {},
   "source": [
    "7.João Papo-de-Pescador, homem de bem, comprou um microcomputador para\n",
    "controlar o rendimento diário de seu trabalho. Toda vez que ele traz um peso de\n",
    "peixes maior que o estabelecido pelo regulamento de pesca do estado de São Paulo\n",
    "(50 quilos) deve pagar uma multa de R$ 4,00 por quilo excedente. João precisa que\n",
    "você faça um programa que leia a variável peso (peso de peixes) e verifique se há\n",
    "excesso. Se houver, gravar na variável excesso e na variável multa o valor da multa\n",
    "que João deverá pagar. Caso contrário mostrar tais variáveis com o conteúdo ZERO."
   ]
  },
  {
   "cell_type": "code",
   "execution_count": 151,
   "metadata": {},
   "outputs": [
    {
     "name": "stdout",
     "output_type": "stream",
     "text": [
      "peso 50\n",
      "multa 0 \n",
      "excesso 0\n"
     ]
    }
   ],
   "source": [
    "peso = int (input(f'peso '))\n",
    "excesso = peso - 50\n",
    "multa = 0\n",
    " \n",
    "\n",
    "if excesso < 0:\n",
    "    excesso = 0\n",
    "    \n",
    "else:\n",
    "     multa = excesso * 4\n",
    "    \n",
    "print (f'multa {multa}', f'\\nexcesso {excesso}')"
   ]
  },
  {
   "cell_type": "markdown",
   "metadata": {},
   "source": [
    "8.Faça um Programa que pergunte quanto você ganha por hora e o número de horas\n",
    "trabalhadas no mês. Calcule e mostre o total do seu salário no referido mês,\n",
    "sabendo-se que são descontados 11% para o Imposto de Renda, 8% para o INSS e 5%\n",
    "para o sindicato, faça um programa que nos dê:\n",
    "- salário bruto.\n",
    "- quanto pagou ao INSS.\n",
    "- quanto pagou ao sindicato.\n",
    "- o salário líquido.\n",
    "- calcule os descontos e o salário líquido, conforme a tabela abaixo:\n",
    "+ Salário Bruto : R$\n",
    "- IR (11%) : R$\n",
    "- INSS (8%) : R$\n",
    "- Sindicato ( 5%) : R$\n",
    "= Salário Liquido : R$\n",
    "Obs.: Salário Bruto - Descontos = Salário Líquido."
   ]
  },
  {
   "cell_type": "code",
   "execution_count": 124,
   "metadata": {},
   "outputs": [
    {
     "name": "stdout",
     "output_type": "stream",
     "text": [
      "Digite o valor ganho por hora 50\n",
      "Digite a quantidade de horas trabalhadas no mês 10\n",
      "O valor do sálário mensal é de R$ 500.0\n",
      "O valor do sálário líquido é de R$ 380.0\n",
      "O valor pago ao INSS é de R$ 40.0\n",
      "O valor pago ao IR é de R$ 55.0\n",
      "O valor pago ao Sindicato é de R$ 25.0\n"
     ]
    }
   ],
   "source": [
    "valor_porhora = float(input(f\"Digite o valor ganho por hora \"))\n",
    "horas_mes = float(input(f\"Digite a quantidade de horas trabalhadas no mês \"))\n",
    "salario = valor_porhora * horas_mes # Não vi necessidade de usar outra variavel pois salário bruto == salario s/decontos\n",
    "descontos = ((salario * 24)/100)\n",
    "salario_liquido = salario - descontos\n",
    "desconto_inss = ((salario * 8)/100)\n",
    "desconto_ir = ((salario * 11)/100)\n",
    "desconto_sindicato = ((salario * 5)/100)\n",
    "\n",
    "print (f'O valor do sálário mensal é de R$ {salario}') \n",
    "print (f'O valor do sálário líquido é de R$ {salario_liquido}') \n",
    "print (f'O valor pago ao INSS é de R$ {desconto_inss}')\n",
    "print (f'O valor pago ao IR é de R$ {desconto_ir}')\n",
    "print (f'O valor pago ao Sindicato é de R$ {desconto_sindicato}')"
   ]
  },
  {
   "cell_type": "markdown",
   "metadata": {},
   "source": [
    "9.Faça um programa que leia 2 strings e informe o conteúdo delas seguido do seu\n",
    "comprimento. Informe também se as duas strings possuem o mesmo comprimento e\n",
    "são iguais ou diferentes no conteúdo.\n",
    "Exemplo:\n",
    "String 1: Brasil Hexa 2018\n",
    "String 2: Brasil! Hexa 2018!\n",
    "Tamanho de \"Brasil Hexa 2018\": 16 caracteres\n",
    "Tamanho de \"Brasil! Hexa 2018!\": 18 caracteres\n",
    "As duas strings são de tamanhos diferentes.\n",
    "As duas strings possuem conteúdo diferente."
   ]
  },
  {
   "cell_type": "code",
   "execution_count": 39,
   "metadata": {},
   "outputs": [
    {
     "name": "stdout",
     "output_type": "stream",
     "text": [
      "Brasil Hexa 2018\n",
      "Brasil Hexa 2018 !\n",
      "Tamanho de : Brasil Hexa 2018 = 16 caracteres\n",
      "Tamanho de : Brasil Hexa 2018 ! = 18 caracteres\n",
      "As duas Strings possuem o mesmo conteúdo ? False\n",
      "As duas Strings são de tamanho diferente ? True\n"
     ]
    }
   ],
   "source": [
    "s1 = 'Brasil Hexa 2018' \n",
    "s2 = 'Brasil Hexa 2018 !'\n",
    "\n",
    "print (s1)\n",
    "print (s2)\n",
    "\n",
    "print (\"Tamanho de : \"+(s1)+ \" = \" + str (len(s1)) + \" caracteres\")\n",
    "print (\"Tamanho de : \"+(s2)+ \" = \" + str (len(s2)) + \" caracteres\")\n",
    "\n",
    "print (\"As duas Strings possuem o mesmo conteúdo ? \" + str (s1 == s2))\n",
    "print (\"As duas Strings são de tamanho diferente ? \" + str (s1[0:len(s1)] < s2[0:len(s2)]))\n",
    "\n",
    "#dict (enumerate(s1))\n",
    "#dict (enumerate(s2))"
   ]
  },
  {
   "cell_type": "markdown",
   "metadata": {},
   "source": [
    "10.Faça um programa que permita ao usuário digitar o seu nome e em seguida\n",
    "mostre o nome do usuário de trás para frente utilizando somente letras maiúsculas.\n",
    "Dica: lembre−se que ao informar o nome o usuário pode digitar letras maiúsculas ou\n",
    "minúsculas. Observação: não use loops."
   ]
  },
  {
   "cell_type": "code",
   "execution_count": 66,
   "metadata": {
    "scrolled": true
   },
   "outputs": [
    {
     "name": "stdout",
     "output_type": "stream",
     "text": [
      "Digite seu nome : Andre Hernandes\n"
     ]
    },
    {
     "data": {
      "text/plain": [
       "'SEDNANREH ERDNA'"
      ]
     },
     "execution_count": 66,
     "metadata": {},
     "output_type": "execute_result"
    }
   ],
   "source": [
    "nome = str(input(\"Digite seu nome : \"))\n",
    "inverso = nome[::-1] \n",
    "inverso.upper()"
   ]
  },
  {
   "cell_type": "markdown",
   "metadata": {},
   "source": [
    "11.Faça um programa que solicite a data de nascimento (dd/mm/aaaa) do usuário e\n",
    "imprima a data com o nome do mês por extenso.\n",
    "Data de Nascimento: 29/10/1973\n",
    "Você nasceu em 29 de Outubro de 1973.\n",
    "Obs.: Não use desvio condicional nem loops."
   ]
  },
  {
   "cell_type": "code",
   "execution_count": 5,
   "metadata": {},
   "outputs": [
    {
     "name": "stdout",
     "output_type": "stream",
     "text": [
      "informe a data de nascimento (dd/mm/aaaa): 29/11/1995\n",
      "Você nasceu em : 29 de novembro de 1995\n"
     ]
    }
   ],
   "source": [
    "data_nascimento = input(\"informe a data de nascimento (dd/mm/aaaa): \")\n",
    "meses = [\"janeiro\",\"fevereiro\",\"março\",\"abril\",\"maio\",\"junho\",\"julho\",\"agosto\",\"setembro\",\"outubro\",\"novembro\",\"dezembro\"]\n",
    "\n",
    "print (\"Você nasceu em : \" + data_nascimento.split(\"/\")[0],\"de\",meses[(int(data.split(\"/\")[1])-1)],\"de\",\n",
    "       data_nascimento.split(\"/\")[2])\n"
   ]
  },
  {
   "cell_type": "markdown",
   "metadata": {},
   "source": [
    "12.Leet é uma forma de se escrever o alfabeto latino usando outros símbolos em\n",
    "lugar das letras, como números por exemplo. A própria palavra leet admite muitas\n",
    "variações, como l33t ou 1337. O uso do leet reflete uma subcultura relacionada ao\n",
    "mundo dos jogos de computador e internet, sendo muito usada para confundir os\n",
    "iniciantes e afirmar-se como parte de um grupo. Pesquise sobre as principais formas\n",
    "de traduzir as letras. Depois, faça um programa que peça uma texto e transforme-o\n",
    "para a grafia leet speak.\n",
    "Desafio: não use loops nem desvios condicionais."
   ]
  },
  {
   "cell_type": "code",
   "execution_count": 21,
   "metadata": {},
   "outputs": [
    {
     "name": "stdout",
     "output_type": "stream",
     "text": [
      "Digite um texto : André\n",
      "A/\\/I>ré\n"
     ]
    }
   ],
   "source": [
    "str01 = (input(\"Digite um texto : \"))\n",
    "new = str01.replace ('e' , '3')\n",
    "new = new.replace ('s' ,'5')\n",
    "new = new.replace ('t' ,'7')\n",
    "new = new.replace ('a' ,'4')\n",
    "new = new.replace ('o' ,'0')\n",
    "new = new.replace ('O' ,'0')\n",
    "new = new.replace ('b' ,'8')\n",
    "new = new.replace ('z' ,'2')\n",
    "new = new.replace ('g' ,'6')\n",
    "new = new.replace ('i' ,'1')\n",
    "new = new.replace ('q' ,'9')\n",
    "new = new.replace ('c' ,'¢') \n",
    "new = new.replace ('d' ,'I>')\n",
    "new = new.replace ('n' , '/\\/')\n",
    "print (new)\n"
   ]
  },
  {
   "cell_type": "code",
   "execution_count": null,
   "metadata": {},
   "outputs": [],
   "source": []
  }
 ],
 "metadata": {
  "kernelspec": {
   "display_name": "Python 3",
   "language": "python",
   "name": "python3"
  },
  "language_info": {
   "codemirror_mode": {
    "name": "ipython",
    "version": 3
   },
   "file_extension": ".py",
   "mimetype": "text/x-python",
   "name": "python",
   "nbconvert_exporter": "python",
   "pygments_lexer": "ipython3",
   "version": "3.7.1"
  },
  "widgets": {
   "application/vnd.jupyter.widget-state+json": {
    "state": {},
    "version_major": 2,
    "version_minor": 0
   }
  }
 },
 "nbformat": 4,
 "nbformat_minor": 2
}
